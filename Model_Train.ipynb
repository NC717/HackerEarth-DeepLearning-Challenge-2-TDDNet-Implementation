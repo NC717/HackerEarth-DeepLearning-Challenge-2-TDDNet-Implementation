{
 "cells": [
  {
   "cell_type": "code",
   "execution_count": 1,
   "metadata": {
    "collapsed": false
   },
   "outputs": [],
   "source": [
    "import os\n",
    "import numpy as np\n",
    "import time\n",
    "import sys\n",
    "\n",
    "from ChexnetTrainer import ChexnetTrainer"
   ]
  },
  {
   "cell_type": "code",
   "execution_count": 2,
   "metadata": {
    "collapsed": false
   },
   "outputs": [
    {
     "name": "stdout",
     "output_type": "stream",
     "text": [
      "/home/ubuntu/TDDNet\r\n"
     ]
    }
   ],
   "source": [
    "! pwd"
   ]
  },
  {
   "cell_type": "code",
   "execution_count": 3,
   "metadata": {
    "collapsed": false
   },
   "outputs": [
    {
     "name": "stdout",
     "output_type": "stream",
     "text": [
      "ChexnetTrainer.py     Model_Test_Prediction.ipynb  read_data.py\r\n",
      "ChexnetTrainer.pyc    Model_Train.ipynb\t\t   read_data.pyc\r\n",
      "Data\t\t      README.md\t\t\t   results.csv\r\n",
      "DatasetGenerator.py   localization\t\t   sample_submission.csv\r\n",
      "DatasetGenerator.pyc  model-2018-01-28.pth.tar\t   testfile.ipynb\r\n",
      "DensenetModels.py     model-2018-01-29.pth.tar\r\n",
      "DensenetModels.pyc    model.py\r\n"
     ]
    }
   ],
   "source": [
    "! ls"
   ]
  },
  {
   "cell_type": "markdown",
   "metadata": {},
   "source": [
    "## Different CNN Architectures"
   ]
  },
  {
   "cell_type": "code",
   "execution_count": 4,
   "metadata": {
    "collapsed": true
   },
   "outputs": [],
   "source": [
    "def runTrain():\n",
    "    DENSENET121 = 'DENSE-NET-121'\n",
    "    DENSENET169 = 'DENSE-NET-169'\n",
    "    DENSENET201 = 'DENSE-NET-201'\n",
    "    \n",
    "    timestampTime = time.strftime(\"%H%M%S\")\n",
    "    timestampDate = time.strftime(\"%d%m%Y\")\n",
    "    timestampLaunch = timestampDate + '-' + timestampTime\n",
    "    \n",
    "    #---- Path to the directory with images\n",
    "    pathTrainDirData = 'Data/images/train_'\n",
    "    #pathTestDirData = 'Data/images/test_'\n",
    "    \n",
    "    #---- Paths to the files with training, validation and testing sets.\n",
    "    #---- Each file should contains pairs [path to image, output vector]\n",
    "    #---- Example: images_011/00027736_001.png 0 0 0 0 0 0 0 0 0 0 0 0 0 0\n",
    "    pathFileTrain = 'Data/labels/train_.txt'\n",
    "    pathFileVal = 'Data/labels/valid_.txt'\n",
    "    #pathFileTest = './dataset/test_1.txt'\n",
    "    \n",
    "    #---- Neural network parameters: type of the network, is it pre-trained \n",
    "    #---- on imagenet, number of classes\n",
    "    nnArchitecture = DENSENET169\n",
    "    nnIsTrained = False\n",
    "    nnClassCount = 14\n",
    "    \n",
    "    #---- Training settings: batch size, maximum number of epochs\n",
    "    trBatchSize = 16\n",
    "    trMaxEpoch = 100\n",
    "    \n",
    "    #---- Parameters related to image transforms: size of the down-scaled image, cropped image\n",
    "    imgtransResize = 256\n",
    "    imgtransCrop = 224\n",
    "        \n",
    "    pathModel = 'model-' + timestampLaunch + '.pth.tar'\n",
    "    \n",
    "    print ('Training NN architecture = ', nnArchitecture)\n",
    "    \n",
    "    ChexnetTrainer().train(pathTrainDirData, pathFileTrain, pathFileVal, nnArchitecture, nnIsTrained, nnClassCount, trBatchSize, trMaxEpoch, imgtransResize, imgtransCrop, timestampLaunch, None)\n",
    "    \n",
    "    print ('Training COmplete!')\n",
    "    '''\n",
    "    print ('Testing the trained model')\n",
    "    ChexnetTrainer.test(pathTrainDirData, pathFileTest, pathModel, nnArchitecture, nnClassCount, nnIsTrained, trBatchSize, imgtransResize, imgtransCrop, timestampLaunch)\n",
    "    '''"
   ]
  },
  {
   "cell_type": "code",
   "execution_count": 5,
   "metadata": {
    "collapsed": true
   },
   "outputs": [],
   "source": [
    "def runTest():\n",
    "    \n",
    "    pathTestDirData = 'Data/images/test_'\n",
    "    pathFileTest = 'Data/labels/test_.txt'\n",
    "    nnArchitecture = 'DENSE-NET-121'\n",
    "    nnIsTrained = True\n",
    "    nnClassCount = 14\n",
    "    trBatchSize = 16\n",
    "    imgtransResize = 256\n",
    "    imgtransCrop = 224\n",
    "    \n",
    "    pathModel = 'model-2018-01-29.pth.tar'\n",
    "    \n",
    "    timestampLaunch = ''\n",
    "    ChexnetTrainer().test(pathTestDirData, pathFileTest, pathModel, nnArchitecture, nnClassCount, \n",
    "                          nnIsTrained, trBatchSize, imgtransResize, imgtransCrop, timestampLaunch)\n",
    "    print ('Test Results Completed! Please check your working directory.')\n",
    "    "
   ]
  },
  {
   "cell_type": "code",
   "execution_count": null,
   "metadata": {
    "collapsed": false
   },
   "outputs": [
    {
     "name": "stdout",
     "output_type": "stream",
     "text": [
      "('Training NN architecture = ', 'DENSE-NET-169')\n"
     ]
    }
   ],
   "source": [
    "runTrain()"
   ]
  },
  {
   "cell_type": "markdown",
   "metadata": {},
   "source": [
    "## Let's discuss the results !"
   ]
  },
  {
   "cell_type": "code",
   "execution_count": null,
   "metadata": {
    "collapsed": true
   },
   "outputs": [],
   "source": []
  },
  {
   "cell_type": "code",
   "execution_count": 7,
   "metadata": {
    "collapsed": false
   },
   "outputs": [
    {
     "name": "stdout",
     "output_type": "stream",
     "text": [
      "Test Results Completed! Please check your working directory.\n"
     ]
    }
   ],
   "source": [
    "runTest()"
   ]
  }
 ],
 "metadata": {
  "anaconda-cloud": {},
  "kernelspec": {
   "display_name": "Python [conda root]",
   "language": "python",
   "name": "conda-root-py"
  },
  "language_info": {
   "codemirror_mode": {
    "name": "ipython",
    "version": 2
   },
   "file_extension": ".py",
   "mimetype": "text/x-python",
   "name": "python",
   "nbconvert_exporter": "python",
   "pygments_lexer": "ipython2",
   "version": "2.7.12"
  }
 },
 "nbformat": 4,
 "nbformat_minor": 1
}
