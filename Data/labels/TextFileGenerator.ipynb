{
 "cells": [
  {
   "cell_type": "code",
   "execution_count": 1,
   "metadata": {
    "collapsed": true
   },
   "outputs": [],
   "source": [
    "import pandas as pd"
   ]
  },
  {
   "cell_type": "code",
   "execution_count": 2,
   "metadata": {
    "collapsed": true
   },
   "outputs": [],
   "source": [
    "sub = pd.read_csv('sample_submission.csv')"
   ]
  },
  {
   "cell_type": "code",
   "execution_count": 3,
   "metadata": {},
   "outputs": [
    {
     "data": {
      "text/html": [
       "<div>\n",
       "<style>\n",
       "    .dataframe thead tr:only-child th {\n",
       "        text-align: right;\n",
       "    }\n",
       "\n",
       "    .dataframe thead th {\n",
       "        text-align: left;\n",
       "    }\n",
       "\n",
       "    .dataframe tbody tr th {\n",
       "        vertical-align: top;\n",
       "    }\n",
       "</style>\n",
       "<table border=\"1\" class=\"dataframe\">\n",
       "  <thead>\n",
       "    <tr style=\"text-align: right;\">\n",
       "      <th></th>\n",
       "      <th>row_id</th>\n",
       "      <th>detected</th>\n",
       "    </tr>\n",
       "  </thead>\n",
       "  <tbody>\n",
       "    <tr>\n",
       "      <th>0</th>\n",
       "      <td>id_100</td>\n",
       "      <td>class_1</td>\n",
       "    </tr>\n",
       "    <tr>\n",
       "      <th>1</th>\n",
       "      <td>id_10002</td>\n",
       "      <td>class_1</td>\n",
       "    </tr>\n",
       "    <tr>\n",
       "      <th>2</th>\n",
       "      <td>id_10005</td>\n",
       "      <td>class_1</td>\n",
       "    </tr>\n",
       "    <tr>\n",
       "      <th>3</th>\n",
       "      <td>id_10008</td>\n",
       "      <td>class_1</td>\n",
       "    </tr>\n",
       "    <tr>\n",
       "      <th>4</th>\n",
       "      <td>id_10009</td>\n",
       "      <td>class_1</td>\n",
       "    </tr>\n",
       "    <tr>\n",
       "      <th>5</th>\n",
       "      <td>id_10013</td>\n",
       "      <td>class_1</td>\n",
       "    </tr>\n",
       "    <tr>\n",
       "      <th>6</th>\n",
       "      <td>id_10015</td>\n",
       "      <td>class_1</td>\n",
       "    </tr>\n",
       "    <tr>\n",
       "      <th>7</th>\n",
       "      <td>id_10017</td>\n",
       "      <td>class_1</td>\n",
       "    </tr>\n",
       "    <tr>\n",
       "      <th>8</th>\n",
       "      <td>id_10018</td>\n",
       "      <td>class_1</td>\n",
       "    </tr>\n",
       "    <tr>\n",
       "      <th>9</th>\n",
       "      <td>id_10020</td>\n",
       "      <td>class_1</td>\n",
       "    </tr>\n",
       "  </tbody>\n",
       "</table>\n",
       "</div>"
      ],
      "text/plain": [
       "     row_id detected\n",
       "0    id_100  class_1\n",
       "1  id_10002  class_1\n",
       "2  id_10005  class_1\n",
       "3  id_10008  class_1\n",
       "4  id_10009  class_1\n",
       "5  id_10013  class_1\n",
       "6  id_10015  class_1\n",
       "7  id_10017  class_1\n",
       "8  id_10018  class_1\n",
       "9  id_10020  class_1"
      ]
     },
     "execution_count": 3,
     "metadata": {},
     "output_type": "execute_result"
    }
   ],
   "source": [
    "sub.head(10)"
   ]
  },
  {
   "cell_type": "code",
   "execution_count": 17,
   "metadata": {
    "collapsed": true
   },
   "outputs": [],
   "source": [
    "data_train = pd.read_csv('train.csv')"
   ]
  },
  {
   "cell_type": "code",
   "execution_count": 18,
   "metadata": {},
   "outputs": [
    {
     "data": {
      "text/html": [
       "<div>\n",
       "<style>\n",
       "    .dataframe thead tr:only-child th {\n",
       "        text-align: right;\n",
       "    }\n",
       "\n",
       "    .dataframe thead th {\n",
       "        text-align: left;\n",
       "    }\n",
       "\n",
       "    .dataframe tbody tr th {\n",
       "        vertical-align: top;\n",
       "    }\n",
       "</style>\n",
       "<table border=\"1\" class=\"dataframe\">\n",
       "  <thead>\n",
       "    <tr style=\"text-align: right;\">\n",
       "      <th></th>\n",
       "      <th>row_id</th>\n",
       "      <th>age</th>\n",
       "      <th>gender</th>\n",
       "      <th>view_position</th>\n",
       "      <th>image_name</th>\n",
       "      <th>detected</th>\n",
       "    </tr>\n",
       "  </thead>\n",
       "  <tbody>\n",
       "    <tr>\n",
       "      <th>0</th>\n",
       "      <td>id_0</td>\n",
       "      <td>45</td>\n",
       "      <td>M</td>\n",
       "      <td>0</td>\n",
       "      <td>scan_0000.png</td>\n",
       "      <td>class_3</td>\n",
       "    </tr>\n",
       "    <tr>\n",
       "      <th>1</th>\n",
       "      <td>id_1</td>\n",
       "      <td>57</td>\n",
       "      <td>F</td>\n",
       "      <td>0</td>\n",
       "      <td>scan_0001.png</td>\n",
       "      <td>class_3</td>\n",
       "    </tr>\n",
       "    <tr>\n",
       "      <th>2</th>\n",
       "      <td>id_10</td>\n",
       "      <td>58</td>\n",
       "      <td>M</td>\n",
       "      <td>0</td>\n",
       "      <td>scan_00010.png</td>\n",
       "      <td>class_3</td>\n",
       "    </tr>\n",
       "    <tr>\n",
       "      <th>3</th>\n",
       "      <td>id_1000</td>\n",
       "      <td>64</td>\n",
       "      <td>M</td>\n",
       "      <td>0</td>\n",
       "      <td>scan_0001000.png</td>\n",
       "      <td>class_6</td>\n",
       "    </tr>\n",
       "    <tr>\n",
       "      <th>4</th>\n",
       "      <td>id_10000</td>\n",
       "      <td>33</td>\n",
       "      <td>M</td>\n",
       "      <td>1</td>\n",
       "      <td>scan_00010000.png</td>\n",
       "      <td>class_3</td>\n",
       "    </tr>\n",
       "  </tbody>\n",
       "</table>\n",
       "</div>"
      ],
      "text/plain": [
       "     row_id  age gender  view_position         image_name detected\n",
       "0      id_0   45      M              0      scan_0000.png  class_3\n",
       "1      id_1   57      F              0      scan_0001.png  class_3\n",
       "2     id_10   58      M              0     scan_00010.png  class_3\n",
       "3   id_1000   64      M              0   scan_0001000.png  class_6\n",
       "4  id_10000   33      M              1  scan_00010000.png  class_3"
      ]
     },
     "execution_count": 18,
     "metadata": {},
     "output_type": "execute_result"
    }
   ],
   "source": [
    "data_train.head()"
   ]
  },
  {
   "cell_type": "code",
   "execution_count": 6,
   "metadata": {},
   "outputs": [
    {
     "name": "stdout",
     "output_type": "stream",
     "text": [
      "Requirement already satisfied: fastai in /Users/akhilpunia/anaconda/envs/py36/lib/python3.6/site-packages\n",
      "Requirement already satisfied: graphviz in /Users/akhilpunia/anaconda/envs/py36/lib/python3.6/site-packages (from fastai)\n",
      "Requirement already satisfied: pandas-summary in /Users/akhilpunia/anaconda/envs/py36/lib/python3.6/site-packages (from fastai)\n",
      "Requirement already satisfied: bleach in /Users/akhilpunia/anaconda/envs/py36/lib/python3.6/site-packages (from fastai)\n",
      "Requirement already satisfied: ipywidgets in /Users/akhilpunia/anaconda/envs/py36/lib/python3.6/site-packages (from fastai)\n",
      "Requirement already satisfied: ipykernel in /Users/akhilpunia/anaconda/envs/py36/lib/python3.6/site-packages (from fastai)\n",
      "Requirement already satisfied: webencodings in /Users/akhilpunia/anaconda/envs/py36/lib/python3.6/site-packages (from fastai)\n",
      "Requirement already satisfied: tornado in /Users/akhilpunia/anaconda/envs/py36/lib/python3.6/site-packages (from fastai)\n",
      "Requirement already satisfied: jupyter-console in /Users/akhilpunia/anaconda/envs/py36/lib/python3.6/site-packages (from fastai)\n",
      "Requirement already satisfied: PyYAML in /Users/akhilpunia/anaconda/envs/py36/lib/python3.6/site-packages (from fastai)\n",
      "Requirement already satisfied: feather-format in /Users/akhilpunia/anaconda/envs/py36/lib/python3.6/site-packages (from fastai)\n",
      "Requirement already satisfied: awscli in /Users/akhilpunia/anaconda/envs/py36/lib/python3.6/site-packages (from fastai)\n",
      "Requirement already satisfied: pytz in /Users/akhilpunia/anaconda/envs/py36/lib/python3.6/site-packages (from fastai)\n",
      "Requirement already satisfied: olefile in /Users/akhilpunia/anaconda/envs/py36/lib/python3.6/site-packages (from fastai)\n",
      "Requirement already satisfied: simplegeneric in /Users/akhilpunia/anaconda/envs/py36/lib/python3.6/site-packages (from fastai)\n",
      "Requirement already satisfied: jedi in /Users/akhilpunia/anaconda/envs/py36/lib/python3.6/site-packages (from fastai)\n",
      "Requirement already satisfied: torchtext in /Users/akhilpunia/anaconda/envs/py36/lib/python3.6/site-packages (from fastai)\n",
      "Requirement already satisfied: jsonschema in /Users/akhilpunia/anaconda/envs/py36/lib/python3.6/site-packages (from fastai)\n",
      "Requirement already satisfied: python-dateutil in /Users/akhilpunia/anaconda/envs/py36/lib/python3.6/site-packages (from fastai)\n",
      "Requirement already satisfied: MarkupSafe in /Users/akhilpunia/anaconda/envs/py36/lib/python3.6/site-packages (from fastai)\n",
      "Requirement already satisfied: nbformat in /Users/akhilpunia/anaconda/envs/py36/lib/python3.6/site-packages (from fastai)\n",
      "Requirement already satisfied: terminado in /Users/akhilpunia/anaconda/envs/py36/lib/python3.6/site-packages (from fastai)\n",
      "Requirement already satisfied: cycler in /Users/akhilpunia/anaconda/envs/py36/lib/python3.6/site-packages (from fastai)\n",
      "Requirement already satisfied: entrypoints in /Users/akhilpunia/anaconda/envs/py36/lib/python3.6/site-packages (from fastai)\n",
      "Requirement already satisfied: scipy in /Users/akhilpunia/anaconda/envs/py36/lib/python3.6/site-packages (from fastai)\n",
      "Requirement already satisfied: wcwidth in /Users/akhilpunia/anaconda/envs/py36/lib/python3.6/site-packages (from fastai)\n",
      "Requirement already satisfied: jupyter in /Users/akhilpunia/anaconda/envs/py36/lib/python3.6/site-packages (from fastai)\n",
      "Requirement already satisfied: jupyter-contrib-nbextensions in /Users/akhilpunia/anaconda/envs/py36/lib/python3.6/site-packages (from fastai)\n",
      "Requirement already satisfied: pyzmq in /Users/akhilpunia/anaconda/envs/py36/lib/python3.6/site-packages (from fastai)\n",
      "Requirement already satisfied: Pygments in /Users/akhilpunia/anaconda/envs/py36/lib/python3.6/site-packages (from fastai)\n",
      "Requirement already satisfied: decorator in /Users/akhilpunia/anaconda/envs/py36/lib/python3.6/site-packages (from fastai)\n",
      "Requirement already satisfied: kaggle-cli in /Users/akhilpunia/anaconda/envs/py36/lib/python3.6/site-packages (from fastai)\n",
      "Requirement already satisfied: prompt-toolkit in /Users/akhilpunia/anaconda/envs/py36/lib/python3.6/site-packages (from fastai)\n",
      "Requirement already satisfied: widgetsnbextension in /Users/akhilpunia/anaconda/envs/py36/lib/python3.6/site-packages (from fastai)\n",
      "Requirement already satisfied: tqdm in /Users/akhilpunia/anaconda/envs/py36/lib/python3.6/site-packages (from fastai)\n",
      "Requirement already satisfied: certifi in /Users/akhilpunia/anaconda/envs/py36/lib/python3.6/site-packages (from fastai)\n",
      "Requirement already satisfied: isoweek in /Users/akhilpunia/anaconda/envs/py36/lib/python3.6/site-packages (from fastai)\n",
      "Requirement already satisfied: Jinja2 in /Users/akhilpunia/anaconda/envs/py36/lib/python3.6/site-packages (from fastai)\n",
      "Requirement already satisfied: mistune in /Users/akhilpunia/anaconda/envs/py36/lib/python3.6/site-packages (from fastai)\n",
      "Requirement already satisfied: jupyter-core in /Users/akhilpunia/anaconda/envs/py36/lib/python3.6/site-packages (from fastai)\n",
      "Requirement already satisfied: html5lib in /Users/akhilpunia/anaconda/envs/py36/lib/python3.6/site-packages (from fastai)\n",
      "Requirement already satisfied: matplotlib in /Users/akhilpunia/anaconda/envs/py36/lib/python3.6/site-packages (from fastai)\n",
      "Requirement already satisfied: pandas in /Users/akhilpunia/anaconda/envs/py36/lib/python3.6/site-packages (from fastai)\n",
      "Requirement already satisfied: numpy in /Users/akhilpunia/anaconda/envs/py36/lib/python3.6/site-packages (from fastai)\n",
      "Requirement already satisfied: seaborn in /Users/akhilpunia/anaconda/envs/py36/lib/python3.6/site-packages (from fastai)\n",
      "Requirement already satisfied: ipython-genutils in /Users/akhilpunia/anaconda/envs/py36/lib/python3.6/site-packages (from fastai)\n",
      "Requirement already satisfied: testpath in /Users/akhilpunia/anaconda/envs/py36/lib/python3.6/site-packages (from fastai)\n",
      "Requirement already satisfied: ptyprocess in /Users/akhilpunia/anaconda/envs/py36/lib/python3.6/site-packages (from fastai)\n",
      "Requirement already satisfied: pexpect in /Users/akhilpunia/anaconda/envs/py36/lib/python3.6/site-packages (from fastai)\n",
      "Requirement already satisfied: sklearn-pandas in /Users/akhilpunia/anaconda/envs/py36/lib/python3.6/site-packages (from fastai)\n",
      "Requirement already satisfied: ipython in /Users/akhilpunia/anaconda/envs/py36/lib/python3.6/site-packages (from fastai)\n",
      "Requirement already satisfied: nbconvert in /Users/akhilpunia/anaconda/envs/py36/lib/python3.6/site-packages (from fastai)\n",
      "Requirement already satisfied: pickleshare in /Users/akhilpunia/anaconda/envs/py36/lib/python3.6/site-packages (from fastai)\n",
      "Requirement already satisfied: six in /Users/akhilpunia/anaconda/envs/py36/lib/python3.6/site-packages (from fastai)\n",
      "Requirement already satisfied: qtconsole in /Users/akhilpunia/anaconda/envs/py36/lib/python3.6/site-packages (from fastai)\n",
      "Requirement already satisfied: Pillow in /Users/akhilpunia/anaconda/envs/py36/lib/python3.6/site-packages (from fastai)\n",
      "Requirement already satisfied: plotnine in /Users/akhilpunia/anaconda/envs/py36/lib/python3.6/site-packages (from fastai)\n",
      "Requirement already satisfied: jupyter-client in /Users/akhilpunia/anaconda/envs/py36/lib/python3.6/site-packages (from fastai)\n",
      "Requirement already satisfied: traitlets in /Users/akhilpunia/anaconda/envs/py36/lib/python3.6/site-packages (from fastai)\n",
      "Requirement already satisfied: opencv-python in /Users/akhilpunia/anaconda/envs/py36/lib/python3.6/site-packages (from fastai)\n",
      "Requirement already satisfied: notebook in /Users/akhilpunia/anaconda/envs/py36/lib/python3.6/site-packages (from fastai)\n",
      "Requirement already satisfied: pandocfilters in /Users/akhilpunia/anaconda/envs/py36/lib/python3.6/site-packages (from fastai)\n",
      "Requirement already satisfied: pyparsing in /Users/akhilpunia/anaconda/envs/py36/lib/python3.6/site-packages (from fastai)\n",
      "Requirement already satisfied: bcolz in /Users/akhilpunia/anaconda/envs/py36/lib/python3.6/site-packages (from fastai)\n",
      "Requirement already satisfied: pyarrow>=0.4.0 in /Users/akhilpunia/anaconda/envs/py36/lib/python3.6/site-packages (from feather-format->fastai)\n",
      "Requirement already satisfied: colorama<=0.3.7,>=0.2.5 in /Users/akhilpunia/anaconda/envs/py36/lib/python3.6/site-packages (from awscli->fastai)\n",
      "Requirement already satisfied: rsa<=3.5.0,>=3.1.2 in /Users/akhilpunia/anaconda/envs/py36/lib/python3.6/site-packages (from awscli->fastai)\n",
      "Requirement already satisfied: s3transfer<0.2.0,>=0.1.12 in /Users/akhilpunia/anaconda/envs/py36/lib/python3.6/site-packages (from awscli->fastai)\n"
     ]
    },
    {
     "name": "stdout",
     "output_type": "stream",
     "text": [
      "Requirement already satisfied: botocore==1.8.23 in /Users/akhilpunia/anaconda/envs/py36/lib/python3.6/site-packages (from awscli->fastai)\n",
      "Requirement already satisfied: docutils>=0.10 in /Users/akhilpunia/anaconda/envs/py36/lib/python3.6/site-packages (from awscli->fastai)\n",
      "Requirement already satisfied: requests in /Users/akhilpunia/anaconda/envs/py36/lib/python3.6/site-packages (from torchtext->fastai)\n",
      "Requirement already satisfied: jupyter-contrib-core>=0.3.3 in /Users/akhilpunia/anaconda/envs/py36/lib/python3.6/site-packages (from jupyter-contrib-nbextensions->fastai)\n",
      "Requirement already satisfied: jupyter-latex-envs>=1.3.8 in /Users/akhilpunia/anaconda/envs/py36/lib/python3.6/site-packages (from jupyter-contrib-nbextensions->fastai)\n",
      "Requirement already satisfied: jupyter-highlight-selected-word>=0.0.10 in /Users/akhilpunia/anaconda/envs/py36/lib/python3.6/site-packages (from jupyter-contrib-nbextensions->fastai)\n",
      "Requirement already satisfied: lxml>=3.8.0 in /Users/akhilpunia/anaconda/envs/py36/lib/python3.6/site-packages (from jupyter-contrib-nbextensions->fastai)\n",
      "Requirement already satisfied: jupyter-nbextensions-configurator>=0.2.8 in /Users/akhilpunia/anaconda/envs/py36/lib/python3.6/site-packages (from jupyter-contrib-nbextensions->fastai)\n",
      "Requirement already satisfied: beautifulsoup4<4.7,>=4.6.0 in /Users/akhilpunia/anaconda/envs/py36/lib/python3.6/site-packages (from kaggle-cli->fastai)\n",
      "Requirement already satisfied: MechanicalSoup<0.9,>=0.7.0 in /Users/akhilpunia/anaconda/envs/py36/lib/python3.6/site-packages (from kaggle-cli->fastai)\n",
      "Requirement already satisfied: cssselect<1.1,>=1.0.1 in /Users/akhilpunia/anaconda/envs/py36/lib/python3.6/site-packages (from kaggle-cli->fastai)\n",
      "Requirement already satisfied: progressbar2<3.35,>=3.34.3 in /Users/akhilpunia/anaconda/envs/py36/lib/python3.6/site-packages (from kaggle-cli->fastai)\n",
      "Requirement already satisfied: configparser in /Users/akhilpunia/anaconda/envs/py36/lib/python3.6/site-packages (from kaggle-cli->fastai)\n",
      "Requirement already satisfied: cliff<2.9,>=2.8.0 in /Users/akhilpunia/anaconda/envs/py36/lib/python3.6/site-packages (from kaggle-cli->fastai)\n",
      "Requirement already satisfied: scikit-learn>=0.15.0 in /Users/akhilpunia/anaconda/envs/py36/lib/python3.6/site-packages (from sklearn-pandas->fastai)\n",
      "Requirement already satisfied: mizani>=0.4.1 in /Users/akhilpunia/anaconda/envs/py36/lib/python3.6/site-packages (from plotnine->fastai)\n",
      "Requirement already satisfied: patsy>=0.4.1 in /Users/akhilpunia/anaconda/envs/py36/lib/python3.6/site-packages (from plotnine->fastai)\n",
      "Requirement already satisfied: statsmodels>=0.8.0 in /Users/akhilpunia/anaconda/envs/py36/lib/python3.6/site-packages (from plotnine->fastai)\n",
      "Requirement already satisfied: pyasn1>=0.1.3 in /Users/akhilpunia/anaconda/envs/py36/lib/python3.6/site-packages (from rsa<=3.5.0,>=3.1.2->awscli->fastai)\n",
      "Requirement already satisfied: jmespath<1.0.0,>=0.7.1 in /Users/akhilpunia/anaconda/envs/py36/lib/python3.6/site-packages (from botocore==1.8.23->awscli->fastai)\n",
      "Requirement already satisfied: setuptools in /Users/akhilpunia/anaconda/envs/py36/lib/python3.6/site-packages/setuptools-27.2.0-py3.6.egg (from jupyter-contrib-core>=0.3.3->jupyter-contrib-nbextensions->fastai)\n",
      "Requirement already satisfied: python-utils>=2.1.0 in /Users/akhilpunia/anaconda/envs/py36/lib/python3.6/site-packages (from progressbar2<3.35,>=3.34.3->kaggle-cli->fastai)\n",
      "Requirement already satisfied: cmd2>=0.6.7 in /Users/akhilpunia/anaconda/envs/py36/lib/python3.6/site-packages (from cliff<2.9,>=2.8.0->kaggle-cli->fastai)\n",
      "Requirement already satisfied: stevedore>=1.20.0 in /Users/akhilpunia/anaconda/envs/py36/lib/python3.6/site-packages (from cliff<2.9,>=2.8.0->kaggle-cli->fastai)\n",
      "Requirement already satisfied: pbr!=2.1.0,>=2.0.0 in /Users/akhilpunia/anaconda/envs/py36/lib/python3.6/site-packages (from cliff<2.9,>=2.8.0->kaggle-cli->fastai)\n",
      "Requirement already satisfied: PrettyTable<0.8,>=0.7.1 in /Users/akhilpunia/anaconda/envs/py36/lib/python3.6/site-packages (from cliff<2.9,>=2.8.0->kaggle-cli->fastai)\n",
      "Requirement already satisfied: palettable in /Users/akhilpunia/anaconda/envs/py36/lib/python3.6/site-packages (from mizani>=0.4.1->plotnine->fastai)\n",
      "Requirement already satisfied: pyperclip in /Users/akhilpunia/anaconda/envs/py36/lib/python3.6/site-packages (from cmd2>=0.6.7->cliff<2.9,>=2.8.0->kaggle-cli->fastai)\n"
     ]
    }
   ],
   "source": [
    "!pip install fastai"
   ]
  },
  {
   "cell_type": "code",
   "execution_count": 20,
   "metadata": {
    "collapsed": true
   },
   "outputs": [],
   "source": [
    "from fastai.dataset import *\n",
    "n = len(data_train)\n",
    "\n",
    "val_idxs = get_cv_idxs(n)\n",
    "\n",
    "trn_idxs = list()\n",
    "for i in range(n):\n",
    "    if i not in val_idxs:\n",
    "        trn_idxs.append(i)\n",
    "    else:\n",
    "        pass"
   ]
  },
  {
   "cell_type": "code",
   "execution_count": 25,
   "metadata": {
    "collapsed": true
   },
   "outputs": [],
   "source": [
    "train = data_train.iloc[trn_idxs]\n",
    "valid = data_train.iloc[val_idxs]"
   ]
  },
  {
   "cell_type": "code",
   "execution_count": 28,
   "metadata": {
    "collapsed": true
   },
   "outputs": [],
   "source": [
    "def remove(df):\n",
    "    df.drop('age',axis=1,inplace=True)\n",
    "    df.drop('gender',axis=1,inplace=True)\n",
    "    df.drop('view_position',axis=1,inplace=True) \n",
    "    df.drop('row_id',axis=1,inplace=True)\n",
    "    return df"
   ]
  },
  {
   "cell_type": "code",
   "execution_count": 29,
   "metadata": {},
   "outputs": [
    {
     "name": "stderr",
     "output_type": "stream",
     "text": [
      "/Users/akhilpunia/anaconda/envs/py36/lib/python3.6/site-packages/ipykernel_launcher.py:2: SettingWithCopyWarning: \n",
      "A value is trying to be set on a copy of a slice from a DataFrame\n",
      "\n",
      "See the caveats in the documentation: http://pandas.pydata.org/pandas-docs/stable/indexing.html#indexing-view-versus-copy\n",
      "  \n",
      "/Users/akhilpunia/anaconda/envs/py36/lib/python3.6/site-packages/ipykernel_launcher.py:3: SettingWithCopyWarning: \n",
      "A value is trying to be set on a copy of a slice from a DataFrame\n",
      "\n",
      "See the caveats in the documentation: http://pandas.pydata.org/pandas-docs/stable/indexing.html#indexing-view-versus-copy\n",
      "  This is separate from the ipykernel package so we can avoid doing imports until\n",
      "/Users/akhilpunia/anaconda/envs/py36/lib/python3.6/site-packages/ipykernel_launcher.py:4: SettingWithCopyWarning: \n",
      "A value is trying to be set on a copy of a slice from a DataFrame\n",
      "\n",
      "See the caveats in the documentation: http://pandas.pydata.org/pandas-docs/stable/indexing.html#indexing-view-versus-copy\n",
      "  after removing the cwd from sys.path.\n",
      "/Users/akhilpunia/anaconda/envs/py36/lib/python3.6/site-packages/ipykernel_launcher.py:5: SettingWithCopyWarning: \n",
      "A value is trying to be set on a copy of a slice from a DataFrame\n",
      "\n",
      "See the caveats in the documentation: http://pandas.pydata.org/pandas-docs/stable/indexing.html#indexing-view-versus-copy\n",
      "  \"\"\"\n"
     ]
    }
   ],
   "source": [
    "train = remove(train)\n",
    "valid = remove(valid)"
   ]
  },
  {
   "cell_type": "markdown",
   "metadata": {},
   "source": [
    "### Check Equitable Distribution"
   ]
  },
  {
   "cell_type": "code",
   "execution_count": 30,
   "metadata": {},
   "outputs": [
    {
     "data": {
      "text/html": [
       "<div>\n",
       "<style>\n",
       "    .dataframe thead tr:only-child th {\n",
       "        text-align: right;\n",
       "    }\n",
       "\n",
       "    .dataframe thead th {\n",
       "        text-align: left;\n",
       "    }\n",
       "\n",
       "    .dataframe tbody tr th {\n",
       "        vertical-align: top;\n",
       "    }\n",
       "</style>\n",
       "<table border=\"1\" class=\"dataframe\">\n",
       "  <thead>\n",
       "    <tr style=\"text-align: right;\">\n",
       "      <th></th>\n",
       "      <th>image_name</th>\n",
       "    </tr>\n",
       "    <tr>\n",
       "      <th>detected</th>\n",
       "      <th></th>\n",
       "    </tr>\n",
       "  </thead>\n",
       "  <tbody>\n",
       "    <tr>\n",
       "      <th>class_3</th>\n",
       "      <td>4620</td>\n",
       "    </tr>\n",
       "    <tr>\n",
       "      <th>class_7</th>\n",
       "      <td>2037</td>\n",
       "    </tr>\n",
       "    <tr>\n",
       "      <th>class_5</th>\n",
       "      <td>1902</td>\n",
       "    </tr>\n",
       "    <tr>\n",
       "      <th>class_12</th>\n",
       "      <td>1259</td>\n",
       "    </tr>\n",
       "    <tr>\n",
       "      <th>class_6</th>\n",
       "      <td>1069</td>\n",
       "    </tr>\n",
       "    <tr>\n",
       "      <th>class_4</th>\n",
       "      <td>995</td>\n",
       "    </tr>\n",
       "    <tr>\n",
       "      <th>class_11</th>\n",
       "      <td>644</td>\n",
       "    </tr>\n",
       "    <tr>\n",
       "      <th>class_13</th>\n",
       "      <td>546</td>\n",
       "    </tr>\n",
       "    <tr>\n",
       "      <th>class_2</th>\n",
       "      <td>520</td>\n",
       "    </tr>\n",
       "    <tr>\n",
       "      <th>class_14</th>\n",
       "      <td>418</td>\n",
       "    </tr>\n",
       "    <tr>\n",
       "      <th>class_1</th>\n",
       "      <td>346</td>\n",
       "    </tr>\n",
       "    <tr>\n",
       "      <th>class_8</th>\n",
       "      <td>301</td>\n",
       "    </tr>\n",
       "    <tr>\n",
       "      <th>class_10</th>\n",
       "      <td>154</td>\n",
       "    </tr>\n",
       "    <tr>\n",
       "      <th>class_9</th>\n",
       "      <td>51</td>\n",
       "    </tr>\n",
       "  </tbody>\n",
       "</table>\n",
       "</div>"
      ],
      "text/plain": [
       "          image_name\n",
       "detected            \n",
       "class_3         4620\n",
       "class_7         2037\n",
       "class_5         1902\n",
       "class_12        1259\n",
       "class_6         1069\n",
       "class_4          995\n",
       "class_11         644\n",
       "class_13         546\n",
       "class_2          520\n",
       "class_14         418\n",
       "class_1          346\n",
       "class_8          301\n",
       "class_10         154\n",
       "class_9           51"
      ]
     },
     "execution_count": 30,
     "metadata": {},
     "output_type": "execute_result"
    }
   ],
   "source": [
    "train.pivot_table(index='detected', aggfunc=len).sort_values('image_name',ascending=False)"
   ]
  },
  {
   "cell_type": "code",
   "execution_count": 31,
   "metadata": {},
   "outputs": [
    {
     "data": {
      "text/html": [
       "<div>\n",
       "<style>\n",
       "    .dataframe thead tr:only-child th {\n",
       "        text-align: right;\n",
       "    }\n",
       "\n",
       "    .dataframe thead th {\n",
       "        text-align: left;\n",
       "    }\n",
       "\n",
       "    .dataframe tbody tr th {\n",
       "        vertical-align: top;\n",
       "    }\n",
       "</style>\n",
       "<table border=\"1\" class=\"dataframe\">\n",
       "  <thead>\n",
       "    <tr style=\"text-align: right;\">\n",
       "      <th></th>\n",
       "      <th>image_name</th>\n",
       "    </tr>\n",
       "    <tr>\n",
       "      <th>detected</th>\n",
       "      <th></th>\n",
       "    </tr>\n",
       "  </thead>\n",
       "  <tbody>\n",
       "    <tr>\n",
       "      <th>class_3</th>\n",
       "      <td>1108</td>\n",
       "    </tr>\n",
       "    <tr>\n",
       "      <th>class_7</th>\n",
       "      <td>492</td>\n",
       "    </tr>\n",
       "    <tr>\n",
       "      <th>class_5</th>\n",
       "      <td>471</td>\n",
       "    </tr>\n",
       "    <tr>\n",
       "      <th>class_12</th>\n",
       "      <td>364</td>\n",
       "    </tr>\n",
       "    <tr>\n",
       "      <th>class_4</th>\n",
       "      <td>288</td>\n",
       "    </tr>\n",
       "    <tr>\n",
       "      <th>class_6</th>\n",
       "      <td>247</td>\n",
       "    </tr>\n",
       "    <tr>\n",
       "      <th>class_11</th>\n",
       "      <td>142</td>\n",
       "    </tr>\n",
       "    <tr>\n",
       "      <th>class_2</th>\n",
       "      <td>136</td>\n",
       "    </tr>\n",
       "    <tr>\n",
       "      <th>class_13</th>\n",
       "      <td>130</td>\n",
       "    </tr>\n",
       "    <tr>\n",
       "      <th>class_14</th>\n",
       "      <td>117</td>\n",
       "    </tr>\n",
       "    <tr>\n",
       "      <th>class_1</th>\n",
       "      <td>90</td>\n",
       "    </tr>\n",
       "    <tr>\n",
       "      <th>class_8</th>\n",
       "      <td>76</td>\n",
       "    </tr>\n",
       "    <tr>\n",
       "      <th>class_10</th>\n",
       "      <td>39</td>\n",
       "    </tr>\n",
       "    <tr>\n",
       "      <th>class_9</th>\n",
       "      <td>15</td>\n",
       "    </tr>\n",
       "  </tbody>\n",
       "</table>\n",
       "</div>"
      ],
      "text/plain": [
       "          image_name\n",
       "detected            \n",
       "class_3         1108\n",
       "class_7          492\n",
       "class_5          471\n",
       "class_12         364\n",
       "class_4          288\n",
       "class_6          247\n",
       "class_11         142\n",
       "class_2          136\n",
       "class_13         130\n",
       "class_14         117\n",
       "class_1           90\n",
       "class_8           76\n",
       "class_10          39\n",
       "class_9           15"
      ]
     },
     "execution_count": 31,
     "metadata": {},
     "output_type": "execute_result"
    }
   ],
   "source": [
    "valid.pivot_table(index='detected', aggfunc=len).sort_values('image_name',ascending=False)"
   ]
  },
  {
   "cell_type": "code",
   "execution_count": 32,
   "metadata": {},
   "outputs": [
    {
     "data": {
      "text/html": [
       "<div>\n",
       "<style>\n",
       "    .dataframe thead tr:only-child th {\n",
       "        text-align: right;\n",
       "    }\n",
       "\n",
       "    .dataframe thead th {\n",
       "        text-align: left;\n",
       "    }\n",
       "\n",
       "    .dataframe tbody tr th {\n",
       "        vertical-align: top;\n",
       "    }\n",
       "</style>\n",
       "<table border=\"1\" class=\"dataframe\">\n",
       "  <thead>\n",
       "    <tr style=\"text-align: right;\">\n",
       "      <th></th>\n",
       "      <th>image_name</th>\n",
       "      <th>detected</th>\n",
       "    </tr>\n",
       "  </thead>\n",
       "  <tbody>\n",
       "    <tr>\n",
       "      <th>1</th>\n",
       "      <td>scan_0001.png</td>\n",
       "      <td>class_3</td>\n",
       "    </tr>\n",
       "    <tr>\n",
       "      <th>2</th>\n",
       "      <td>scan_00010.png</td>\n",
       "      <td>class_3</td>\n",
       "    </tr>\n",
       "    <tr>\n",
       "      <th>4</th>\n",
       "      <td>scan_00010000.png</td>\n",
       "      <td>class_3</td>\n",
       "    </tr>\n",
       "    <tr>\n",
       "      <th>5</th>\n",
       "      <td>scan_00010001.png</td>\n",
       "      <td>class_8</td>\n",
       "    </tr>\n",
       "    <tr>\n",
       "      <th>6</th>\n",
       "      <td>scan_00010003.png</td>\n",
       "      <td>class_7</td>\n",
       "    </tr>\n",
       "  </tbody>\n",
       "</table>\n",
       "</div>"
      ],
      "text/plain": [
       "          image_name detected\n",
       "1      scan_0001.png  class_3\n",
       "2     scan_00010.png  class_3\n",
       "4  scan_00010000.png  class_3\n",
       "5  scan_00010001.png  class_8\n",
       "6  scan_00010003.png  class_7"
      ]
     },
     "execution_count": 32,
     "metadata": {},
     "output_type": "execute_result"
    }
   ],
   "source": [
    "train.head()"
   ]
  },
  {
   "cell_type": "code",
   "execution_count": 33,
   "metadata": {},
   "outputs": [
    {
     "data": {
      "text/plain": [
       "array(['class_3', 'class_8', 'class_7', 'class_4', 'class_5', 'class_10', 'class_6', 'class_1', 'class_12',\n",
       "       'class_13', 'class_2', 'class_14', 'class_11', 'class_9'], dtype=object)"
      ]
     },
     "execution_count": 33,
     "metadata": {},
     "output_type": "execute_result"
    }
   ],
   "source": [
    "train['detected'].unique()"
   ]
  },
  {
   "cell_type": "code",
   "execution_count": 42,
   "metadata": {},
   "outputs": [
    {
     "data": {
      "text/plain": [
       "'scan_0001.png'"
      ]
     },
     "execution_count": 42,
     "metadata": {},
     "output_type": "execute_result"
    }
   ],
   "source": [
    "train['image_name'].iloc[0]"
   ]
  },
  {
   "cell_type": "code",
   "execution_count": 43,
   "metadata": {
    "collapsed": true
   },
   "outputs": [],
   "source": [
    "def convert(df):\n",
    "    conv =list()\n",
    "    for i in range(len(df['detected'])):\n",
    "        target = df['detected']\n",
    "        str1 = str(df['image_name'].iloc[i])\n",
    "        if target =='class_1':\n",
    "            str2=' 1 0 0 0 0 0 0 0 0 0 0 0 0 0'\n",
    "        elif target =='class_2':\n",
    "            str2=' 0 1 0 0 0 0 0 0 0 0 0 0 0 0'\n",
    "        elif target =='class_3':\n",
    "            str2=' 0 0 1 0 0 0 0 0 0 0 0 0 0 0'\n",
    "        elif target =='class_4':\n",
    "            str2=' 0 0 0 1 0 0 0 0 0 0 0 0 0 0'\n",
    "        elif target =='class_5':\n",
    "            str2=' 0 0 0 0 1 0 0 0 0 0 0 0 0 0'\n",
    "        elif target =='class_6':\n",
    "            str2=' 0 0 0 0 0 1 0 0 0 0 0 0 0 0'\n",
    "        elif target =='class_7':\n",
    "            str2=' 0 0 0 0 0 0 1 0 0 0 0 0 0 0'\n",
    "        elif target =='class_8':\n",
    "            str2=' 0 0 0 0 0 0 0 1 0 0 0 0 0 0'\n",
    "        elif target =='class_9':\n",
    "            str2=' 0 0 0 0 0 0 0 0 1 0 0 0 0 0'\n",
    "        elif target =='class_10':\n",
    "            str2=' 0 0 0 0 0 0 0 0 0 1 0 0 0 0'\n",
    "        elif target =='class_11':\n",
    "            str2=' 0 0 0 0 0 0 0 0 0 0 1 0 0 0'\n",
    "        elif target =='class_12':\n",
    "            str2=' 0 0 0 0 0 0 0 0 0 0 0 1 0 0'\n",
    "        elif target =='class_13':\n",
    "            str2=' 0 0 0 0 0 0 0 0 0 0 0 0 1 0'\n",
    "        elif target =='class_14':\n",
    "            str2=' 0 0 0 0 0 0 0 0 0 0 0 0 0 1'\n",
    "        str3 = str1+str2\n",
    "        conv.append(str3)\n",
    "    return conv"
   ]
  },
  {
   "cell_type": "code",
   "execution_count": 47,
   "metadata": {
    "collapsed": true
   },
   "outputs": [],
   "source": [
    "train_text = convert(train)\n",
    "valid_text = convert(valid)"
   ]
  },
  {
   "cell_type": "code",
   "execution_count": 48,
   "metadata": {
    "collapsed": true
   },
   "outputs": [],
   "source": [
    "thefile = open('train_.txt', 'w')\n",
    "for item in train_text:\n",
    "    thefile.write(\"%s\\n\" % item)"
   ]
  },
  {
   "cell_type": "code",
   "execution_count": 51,
   "metadata": {
    "collapsed": true
   },
   "outputs": [],
   "source": [
    "thefile = open('valid_.txt', 'w')\n",
    "for item in valid_text:\n",
    "    thefile.write(\"%s\\n\" % item)"
   ]
  },
  {
   "cell_type": "code",
   "execution_count": null,
   "metadata": {
    "collapsed": true
   },
   "outputs": [],
   "source": []
  }
 ],
 "metadata": {
  "kernelspec": {
   "display_name": "Python 3",
   "language": "python",
   "name": "python3"
  },
  "language_info": {
   "codemirror_mode": {
    "name": "ipython",
    "version": 3
   },
   "file_extension": ".py",
   "mimetype": "text/x-python",
   "name": "python",
   "nbconvert_exporter": "python",
   "pygments_lexer": "ipython3",
   "version": "3.6.1"
  }
 },
 "nbformat": 4,
 "nbformat_minor": 2
}
